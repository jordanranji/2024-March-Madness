{
 "cells": [
  {
   "cell_type": "code",
   "execution_count": 1,
   "id": "5149d45e",
   "metadata": {},
   "outputs": [
    {
     "name": "stdout",
     "output_type": "stream",
     "text": [
      "['2017', '2018', '2019', '2021', '2022', '2023', '2024']\n"
     ]
    }
   ],
   "source": [
    "import pandas as pd\n",
    "import numpy as np\n",
    "path = r'C:\\Users\\ranji\\OneDrive\\Desktop\\Data Science\\March Data\\March Madness 24.xlsx'\n",
    "xl = pd.ExcelFile(path)\n",
    "print(xl.sheet_names)"
   ]
  },
  {
   "cell_type": "code",
   "execution_count": 2,
   "id": "0b638be1",
   "metadata": {},
   "outputs": [],
   "source": [
    "df2017 = pd.read_excel(xl, sheet_name=0)\n",
    "df2017['Year'] = 2017\n",
    "\n",
    "df2018 = pd.read_excel(xl, sheet_name=1)\n",
    "df2018['Year'] = 2018\n",
    "\n",
    "df2019 = pd.read_excel(xl, sheet_name=2)\n",
    "df2019['Year'] = 2019\n",
    "\n",
    "df2021 = pd.read_excel(xl, sheet_name=3)\n",
    "df2021['Year'] = 2021\n",
    "\n",
    "df2022 = pd.read_excel(xl, sheet_name=4)\n",
    "df2022['Year'] = 2022\n",
    "\n",
    "df2023 = pd.read_excel(xl, sheet_name=5)\n",
    "df2023['Year'] = 2023\n",
    "\n",
    "ystart = pd.read_excel(xl, sheet_name=6)\n",
    "ystart['Year'] = 2024\n",
    "y1 = ystart.loc[ystart.Round == 64]\n",
    "y1 = y1.replace([\"Texas A&M\", \"Saint Mary's \"], [\"Texas AM\", \"Saint Mary's\"])\n",
    "\n",
    "dfold = pd.concat([df2017, df2018, df2019, df2021, df2022, df2023])"
   ]
  },
  {
   "cell_type": "code",
   "execution_count": 3,
   "id": "0d3cb07f",
   "metadata": {},
   "outputs": [],
   "source": [
    "path2 = r'C:\\Users\\ranji\\OneDrive\\Desktop\\Data Science\\March Data'\n",
    "tj17 = pd.read_csv(path2 + '\\data17.csv')\n",
    "tj18 = pd.read_csv(path2 + '\\data18.csv')\n",
    "tj19 = pd.read_csv(path2 + '\\data19.csv')\n",
    "tj21 = pd.read_csv(path2 + '\\data21.csv')\n",
    "tj22 = pd.read_csv(path2 + '\\data22.csv')\n",
    "tj23 = pd.read_csv(path2 + '\\data23.csv')\n",
    "y24 = pd.read_csv(path2 + '\\data24.csv')\n",
    "\n",
    "tjAll = pd.concat([tj17, tj18, tj19, tj21, tj22, tj23])"
   ]
  },
  {
   "cell_type": "code",
   "execution_count": 4,
   "id": "47b48446",
   "metadata": {},
   "outputs": [],
   "source": [
    "replaceThis = [\"Connecticut\", \"Mississippi State\", \"Miami (Fla.)\", \"Iowa State\", \"Florida State\", \n",
    "               \"North Carolina\", \"Texas A&M\", \"Ohio State\", \"Michigan State\", \"Utah State\", \"San Diego State\", \n",
    "               \"Oklahoma State\", \"Boise State\", \"Indiana\", \"Florida Atlantic\", \"Colorado State\", \"Kansas State\",\n",
    "               \"Washington State\", \"McNeese State\"]\n",
    "withThis = [\"UConn\", \"Mississippi St.\", \"Miami\", \"Iowa St.\", \"Florida St.\", \"UNC\", \"Texas AM\", \"Ohio St.\", \"Michigan St.\",\n",
    "           \"Utah St.\", \"San Diego St.\", \"Oklahoma St.\", \"Boise St.\", \"IU\", \"FAU\", \"Colorado St.\", \"Kansas St.\", \n",
    "            \"Washington St.\", \"McNeese\"]\n",
    "tjAll = tjAll.replace(replaceThis, withThis)\n",
    "y24 = y24.replace(replaceThis, withThis)"
   ]
  },
  {
   "cell_type": "code",
   "execution_count": 5,
   "id": "b6630272",
   "metadata": {},
   "outputs": [],
   "source": [
    "merged_A = pd.merge(dfold, tjAll, left_on=['Team_A', 'Year'], right_on=['team', 'Year'], how='left', suffixes=('', '_A'))\n",
    "final_merged = pd.merge(merged_A, tjAll, left_on=['Team_B', 'Year'], right_on=['team', 'Year'], how='left', suffixes=('', '_B'))\n",
    "final_merged = final_merged.drop(columns = ['team', 'team_B', 'tooltip_team', 'tooltip_team_B'])"
   ]
  },
  {
   "cell_type": "code",
   "execution_count": 6,
   "id": "aa3d2b01",
   "metadata": {},
   "outputs": [],
   "source": [
    "merged_Y = pd.merge(y1, y24, left_on=['Team_A', 'Year'], right_on=['team', 'Year'], how='left', suffixes=('', '_A'))\n",
    "merged_Y = pd.merge(merged_Y, y24, left_on=['Team_B', 'Year'], right_on=['team', 'Year'], how='left', suffixes=('', '_B'))\n",
    "merged_Y = merged_Y.drop(columns = ['team', 'team_B', 'tooltip_team', 'tooltip_team_B'])"
   ]
  },
  {
   "cell_type": "code",
   "execution_count": 7,
   "id": "ab0e42a5",
   "metadata": {},
   "outputs": [],
   "source": [
    "import torch\n",
    "import torch.nn as nn\n",
    "import torch.nn.functional as F\n"
   ]
  },
  {
   "cell_type": "code",
   "execution_count": 8,
   "id": "6ca368e4",
   "metadata": {},
   "outputs": [],
   "source": [
    "#Changed from score to binary classifier\n",
    "final_merged['won'] = np.where(final_merged['Score'] > 0, 1, 0)"
   ]
  },
  {
   "cell_type": "code",
   "execution_count": 9,
   "id": "5ce533b4",
   "metadata": {},
   "outputs": [],
   "source": [
    "class BasketballNet(nn.Module):\n",
    "    def __init__(self, num_features = 26):\n",
    "        super().__init__()\n",
    "        self.layer1 = nn.Linear(num_features, 20)\n",
    "        self.relu1 = nn.ReLU()\n",
    "        self.layer2 = nn.Linear(20, 12)\n",
    "        self.relu2 = nn.ReLU()\n",
    "        self.output_layer = nn.Linear(12, 2)\n",
    "\n",
    "    def forward(self, x):\n",
    "        x = self.relu1(self.layer1(x))\n",
    "        x = self.relu2(self.layer2(x))\n",
    "        x = self.output_layer(x)\n",
    "        return x"
   ]
  },
  {
   "cell_type": "code",
   "execution_count": 10,
   "id": "09543dd8",
   "metadata": {},
   "outputs": [],
   "source": [
    "final_merged = final_merged.drop(columns = ['Team_A', 'Team_B', 'Score', 'Round', 'Year',\n",
    "                                 \"runs_per_game\", \"runs_conceded_per_game\", \"runs_total\", \"runs_conceded_total\",\n",
    "                                 \"runs_per_game_B\", \"runs_conceded_per_game_B\", \"runs_total_B\", \"runs_conceded_total_B\"])\n",
    "final_merged = final_merged.dropna()"
   ]
  },
  {
   "cell_type": "code",
   "execution_count": 11,
   "id": "a8db4c36",
   "metadata": {},
   "outputs": [],
   "source": [
    "X = final_merged.drop(columns = ['won']).values\n",
    "y = final_merged['won'].dropna().values"
   ]
  },
  {
   "cell_type": "code",
   "execution_count": 12,
   "id": "f3f7bc72",
   "metadata": {},
   "outputs": [],
   "source": [
    "from sklearn.model_selection import train_test_split"
   ]
  },
  {
   "cell_type": "code",
   "execution_count": 13,
   "id": "4bb64cf2",
   "metadata": {},
   "outputs": [],
   "source": [
    "X_train, X_test, y_train, y_test = train_test_split(X, y, test_size = 0.2)"
   ]
  },
  {
   "cell_type": "code",
   "execution_count": 14,
   "id": "02360865",
   "metadata": {},
   "outputs": [],
   "source": [
    "X_train = torch.FloatTensor(X_train)\n",
    "X_test = torch.FloatTensor(X_test)\n",
    "y_train = torch.LongTensor(y_train)\n",
    "y_test = torch.LongTensor(y_test)"
   ]
  },
  {
   "cell_type": "code",
   "execution_count": 15,
   "id": "b2b06ba6",
   "metadata": {},
   "outputs": [],
   "source": [
    "model = BasketballNet()\n",
    "criterion = nn.CrossEntropyLoss()\n",
    "optimizer = torch.optim.Adam(model.parameters(), lr = 0.005)"
   ]
  },
  {
   "cell_type": "code",
   "execution_count": 16,
   "id": "9b61845d",
   "metadata": {},
   "outputs": [
    {
     "name": "stdout",
     "output_type": "stream",
     "text": [
      "tensor(2.5905, grad_fn=<NllLossBackward0>)\n",
      "tensor(0.6668, grad_fn=<NllLossBackward0>)\n",
      "tensor(0.5581, grad_fn=<NllLossBackward0>)\n",
      "tensor(0.5014, grad_fn=<NllLossBackward0>)\n",
      "tensor(0.4565, grad_fn=<NllLossBackward0>)\n",
      "tensor(0.4166, grad_fn=<NllLossBackward0>)\n",
      "tensor(0.3820, grad_fn=<NllLossBackward0>)\n",
      "tensor(0.3461, grad_fn=<NllLossBackward0>)\n",
      "tensor(0.3092, grad_fn=<NllLossBackward0>)\n",
      "tensor(0.2708, grad_fn=<NllLossBackward0>)\n"
     ]
    },
    {
     "data": {
      "text/plain": [
       "Text(0, 0.5, 'Loss')"
      ]
     },
     "execution_count": 16,
     "metadata": {},
     "output_type": "execute_result"
    },
    {
     "data": {
      "image/png": "[encoded data removed]",
      "text/plain": [
       "<Figure size 640x480 with 1 Axes>"
      ]
     },
     "metadata": {},
     "output_type": "display_data"
    }
   ],
   "source": [
    "epoch = 150\n",
    "losses = []\n",
    "\n",
    "for i in range(epoch):\n",
    "    y_pred = model.forward(X_train)\n",
    "    loss = criterion(y_pred, y_train)\n",
    "    losses.append(loss.detach().numpy())\n",
    "    \n",
    "    if i%15 == 0:\n",
    "        print(loss)\n",
    "    \n",
    "    optimizer.zero_grad()\n",
    "    loss.backward()\n",
    "    optimizer.step()\n",
    "    \n",
    "import matplotlib.pyplot as plt\n",
    "plt.plot(range(epoch), losses)\n",
    "plt.xlabel(\"Epochs\")\n",
    "plt.ylabel(\"Loss\")"
   ]
  },
  {
   "cell_type": "code",
   "execution_count": 17,
   "id": "ae5b2e35",
   "metadata": {},
   "outputs": [
    {
     "data": {
      "text/plain": [
       "tensor(0.7446)"
      ]
     },
     "execution_count": 17,
     "metadata": {},
     "output_type": "execute_result"
    }
   ],
   "source": [
    "with torch.no_grad():\n",
    "    y_eval = model.forward(X_test)\n",
    "    loss = criterion(y_eval, y_test)\n",
    "loss"
   ]
  },
  {
   "cell_type": "code",
   "execution_count": 18,
   "id": "0dd85c03",
   "metadata": {},
   "outputs": [
    {
     "name": "stdout",
     "output_type": "stream",
     "text": [
      "33 of 45\n"
     ]
    }
   ],
   "source": [
    "correct = 0\n",
    "for i, data in enumerate(X_test):\n",
    "    y_val = model.forward(data)\n",
    "    \n",
    "    if (y_val.argmax().item() == y_test[i]):\n",
    "        correct += 1\n",
    "\n",
    "print(f'{correct} of {X_test.shape[0]}')"
   ]
  },
  {
   "cell_type": "code",
   "execution_count": 19,
   "id": "53f55d77",
   "metadata": {},
   "outputs": [],
   "source": [
    "#HERE we begin the feature engineering and PCAing of our data, because this was suboptimal before"
   ]
  },
  {
   "cell_type": "code",
   "execution_count": 20,
   "id": "31943d68",
   "metadata": {},
   "outputs": [],
   "source": [
    "new_final_merged = pd.DataFrame()\n",
    "for i in range(13):\n",
    "    col_name = final_merged.columns[i]\n",
    "    \n",
    "    new_final_merged[col_name + \"_diff\"] = final_merged[col_name] / final_merged[col_name + \"_B\"]\n",
    "new_final_merged['won'] = final_merged['won']"
   ]
  },
  {
   "cell_type": "code",
   "execution_count": 21,
   "id": "dcfbcbbb",
   "metadata": {},
   "outputs": [
    {
     "data": {
      "text/plain": [
       "(224, 14)"
      ]
     },
     "execution_count": 21,
     "metadata": {},
     "output_type": "execute_result"
    }
   ],
   "source": [
    "new_final_merged.shape"
   ]
  },
  {
   "cell_type": "code",
   "execution_count": 22,
   "id": "21b0981c",
   "metadata": {},
   "outputs": [],
   "source": [
    "X2 = new_final_merged.drop(columns = ['won']).values\n",
    "y2 = new_final_merged['won'].values"
   ]
  },
  {
   "cell_type": "code",
   "execution_count": 23,
   "id": "b6ac0d7b",
   "metadata": {},
   "outputs": [],
   "source": [
    "X2_train, X2_test, y2_train, y2_test = train_test_split(X2, y2, test_size = 0.2)"
   ]
  },
  {
   "cell_type": "code",
   "execution_count": 24,
   "id": "5cbc3231",
   "metadata": {},
   "outputs": [],
   "source": [
    "X2_train = torch.FloatTensor(X2_train)\n",
    "X2_test = torch.FloatTensor(X2_test)\n",
    "y2_train = torch.LongTensor(y2_train)\n",
    "y2_test = torch.LongTensor(y2_test)"
   ]
  },
  {
   "cell_type": "code",
   "execution_count": 25,
   "id": "e03bf83a",
   "metadata": {},
   "outputs": [],
   "source": [
    "model2 = BasketballNet(13)\n",
    "criterion = nn.CrossEntropyLoss()\n",
    "optimizer = torch.optim.Adam(model2.parameters(), lr = 0.005)"
   ]
  },
  {
   "cell_type": "code",
   "execution_count": 26,
   "id": "c58604f4",
   "metadata": {},
   "outputs": [
    {
     "name": "stdout",
     "output_type": "stream",
     "text": [
      "tensor(0.3054, grad_fn=<NllLossBackward0>)\n"
     ]
    },
    {
     "data": {
      "text/plain": [
       "Text(0, 0.5, 'Loss')"
      ]
     },
     "execution_count": 26,
     "metadata": {},
     "output_type": "execute_result"
    },
    {
     "data": {
      "image/png": "[encoded data removed]",
      "text/plain": [
       "<Figure size 640x480 with 1 Axes>"
      ]
     },
     "metadata": {},
     "output_type": "display_data"
    }
   ],
   "source": [
    "epoch = 100\n",
    "losses = []\n",
    "\n",
    "for i in range(epoch):\n",
    "    y2_pred = model2.forward(X2_train)\n",
    "    loss = criterion(y2_pred, y2_train)\n",
    "    losses.append(loss.detach().numpy())\n",
    "    \n",
    "    \n",
    "    optimizer.zero_grad()\n",
    "    loss.backward()\n",
    "    optimizer.step()\n",
    "    \n",
    "print(loss)\n",
    "\n",
    "plt.plot(range(epoch), losses)\n",
    "\n",
    "plt.xlabel(\"Epochs\")\n",
    "plt.ylabel(\"Loss\")"
   ]
  },
  {
   "cell_type": "code",
   "execution_count": 27,
   "id": "84047a70",
   "metadata": {},
   "outputs": [
    {
     "data": {
      "text/plain": [
       "tensor(1.9415)"
      ]
     },
     "execution_count": 27,
     "metadata": {},
     "output_type": "execute_result"
    }
   ],
   "source": [
    "with torch.no_grad():\n",
    "    y2_eval = model2.forward(X2_test)\n",
    "    loss = criterion(y2_eval, y2_test)\n",
    "loss"
   ]
  },
  {
   "cell_type": "code",
   "execution_count": 28,
   "id": "47c9d8a4",
   "metadata": {},
   "outputs": [
    {
     "name": "stdout",
     "output_type": "stream",
     "text": [
      "31 of 45\n"
     ]
    }
   ],
   "source": [
    "correct = 0\n",
    "for i, data in enumerate(X2_test):\n",
    "    y2_val = model2.forward(data)\n",
    "    \n",
    "    if (y2_val.argmax().item() == y2_test[i]):\n",
    "        correct += 1\n",
    "\n",
    "print(f'{correct} of {X2_test.shape[0]}')"
   ]
  },
  {
   "cell_type": "code",
   "execution_count": 29,
   "id": "6bd25aeb",
   "metadata": {},
   "outputs": [],
   "source": [
    "#PCAAAAAAAA please"
   ]
  },
  {
   "cell_type": "code",
   "execution_count": 30,
   "id": "9750991f",
   "metadata": {},
   "outputs": [
    {
     "name": "stdout",
     "output_type": "stream",
     "text": [
      "Training loss\n",
      "tensor(0.2315, grad_fn=<NllLossBackward0>)\n",
      "Testing loss\n",
      "1.3953542709350586\n",
      "31 of 45\n",
      "Training loss\n",
      "tensor(0.2593, grad_fn=<NllLossBackward0>)\n",
      "Testing loss\n",
      "1.3046233654022217\n",
      "29 of 45\n",
      "Training loss\n",
      "tensor(0.2940, grad_fn=<NllLossBackward0>)\n",
      "Testing loss\n",
      "0.7793444991111755\n",
      "30 of 45\n",
      "Training loss\n",
      "tensor(0.2638, grad_fn=<NllLossBackward0>)\n",
      "Testing loss\n",
      "0.7704895734786987\n",
      "33 of 45\n",
      "Training loss\n",
      "tensor(0.3642, grad_fn=<NllLossBackward0>)\n",
      "Testing loss\n",
      "1.8887540102005005\n",
      "25 of 44\n"
     ]
    },
    {
     "data": {
      "image/png": "[encoded data removed]",
      "text/plain": [
       "<Figure size 640x480 with 1 Axes>"
      ]
     },
     "metadata": {},
     "output_type": "display_data"
    }
   ],
   "source": [
    "from sklearn.preprocessing import StandardScaler\n",
    "from sklearn.decomposition import PCA\n",
    "\n",
    "from sklearn.model_selection import KFold\n",
    "\n",
    "\n",
    "k = 5\n",
    "kf = KFold(n_splits=k, shuffle=True)\n",
    "\n",
    "\n",
    "scaler = StandardScaler()\n",
    "X_scaled = scaler.fit_transform(X2)\n",
    "\n",
    "pca = PCA(n_components=0.95)\n",
    "X_pca = pca.fit_transform(X_scaled)\n",
    "\n",
    "#Xpca_train, Xpca_test, ypca_train, ypca_test = train_test_split(X_pca, y2, test_size = 0.15)\n",
    "\n",
    "#Xpca_train = torch.FloatTensor(Xpca_train)\n",
    "#Xpca_test = torch.FloatTensor(Xpca_test)\n",
    "#ypca_train = torch.LongTensor(ypca_train)\n",
    "#ypca_test = torch.LongTensor(ypca_test)\n",
    "\n",
    "#We are now FOLDING!!!\n",
    "\n",
    "X_pca_tensor = torch.FloatTensor(X_pca)\n",
    "y_tensor = torch.LongTensor(y2)\n",
    "\n",
    "fold_results = []\n",
    "\n",
    "for fold, (train_idx, val_idx) in enumerate(kf.split(X_pca_tensor)):\n",
    "    # Split data into training and validation for the current fold\n",
    "    X_train_fold = X_pca_tensor[train_idx]\n",
    "    y_train_fold = y_tensor[train_idx]\n",
    "    X_val_fold = X_pca_tensor[val_idx]\n",
    "    y_val_fold = y_tensor[val_idx]\n",
    "    \n",
    "    \n",
    "    modelPCA = BasketballNet(X_train_fold.shape[1])\n",
    "    criterion = nn.CrossEntropyLoss()\n",
    "    optimizer = torch.optim.Adam(modelPCA.parameters(), lr = 0.005)\n",
    "\n",
    "    #Train the Model!\n",
    "\n",
    "    epoch = 100\n",
    "    losses = []\n",
    "\n",
    "    for i in range(epoch):\n",
    "        modelPCA.train()\n",
    "        optimizer.zero_grad()\n",
    "        output = modelPCA(X_train_fold)\n",
    "        loss = criterion(output, y_train_fold)\n",
    "        loss.backward()\n",
    "        optimizer.step()\n",
    "        losses.append(loss.detach().numpy())\n",
    "\n",
    "    print(\"Training loss\")\n",
    "    print(loss)\n",
    "\n",
    "    #Plot the (unfortunately high) losses\n",
    "\n",
    "    plt.plot(range(epoch), losses)\n",
    "\n",
    "    plt.xlabel(\"Epochs\")\n",
    "    plt.ylabel(\"Loss\")\n",
    "\n",
    "    #Test loss\n",
    "    modelPCA.eval()\n",
    "    with torch.no_grad():\n",
    "        ypca_eval = modelPCA.forward(X_val_fold)\n",
    "        loss = criterion(ypca_eval, y_val_fold).item()\n",
    "    print(\"Testing loss\")\n",
    "    print(loss)\n",
    "    \n",
    "    val_preds = torch.argmax(ypca_eval, dim=1)\n",
    "    val_accuracy = (val_preds == y_val_fold).float().mean()\n",
    "\n",
    "    #See how many we actually got wrong\n",
    "    correct = 0\n",
    "    for i, data in enumerate(X_val_fold):\n",
    "        ypca_val = modelPCA.forward(data)\n",
    "\n",
    "        if (ypca_val.argmax().item() == y_val_fold[i]):\n",
    "            correct += 1\n",
    "\n",
    "    print(f'{correct} of {X_val_fold.shape[0]}')\n",
    "    \n",
    "    fold_results.append((val_preds, val_accuracy))"
   ]
  },
  {
   "cell_type": "code",
   "execution_count": 31,
   "id": "8821a5d8",
   "metadata": {},
   "outputs": [],
   "source": [
    "#PREDICTION TIME, Let's dance March"
   ]
  },
  {
   "cell_type": "code",
   "execution_count": 32,
   "id": "24f53dbf",
   "metadata": {},
   "outputs": [],
   "source": [
    "merged_Y = merged_Y[['rank', 'obpr', 'dbpr', 'bpr', 'opponent_adjust', 'pace_adjust',\n",
    "       'off_rank', 'def_rank', 'tempo', 'tempo_rank', 'home_rank', 'wins',\n",
    "       'losses', 'rank_B', 'obpr_B', 'dbpr_B', 'bpr_B', 'opponent_adjust_B',\n",
    "       'pace_adjust_B', 'off_rank_B', 'def_rank_B', 'tempo_B', 'tempo_rank_B',\n",
    "       'home_rank_B', 'wins_B', 'losses_B']]\n",
    "merged_Y = merged_Y.dropna()"
   ]
  },
  {
   "cell_type": "code",
   "execution_count": 33,
   "id": "bdca85d6",
   "metadata": {},
   "outputs": [
    {
     "name": "stderr",
     "output_type": "stream",
     "text": [
      "C:\\Users\\ranji\\anaconda3\\lib\\site-packages\\sklearn\\base.py:457: UserWarning: X has feature names, but StandardScaler was fitted without feature names\n",
      "  warnings.warn(\n"
     ]
    }
   ],
   "source": [
    "new_merged_Y = pd.DataFrame()\n",
    "for i in range(13):\n",
    "    col_name = merged_Y.columns[i]\n",
    "    \n",
    "    new_merged_Y[col_name + \"_diff\"] = merged_Y[col_name] / merged_Y[col_name + \"_B\"]\n",
    "    \n",
    "#PCA this jawn\n",
    "merged_Y_scaled = scaler.transform(new_merged_Y)"
   ]
  },
  {
   "cell_type": "code",
   "execution_count": 34,
   "id": "8f225b33",
   "metadata": {},
   "outputs": [],
   "source": [
    "merged_Y_pca = pca.transform(merged_Y_scaled)\n",
    "merged_Y_pca_tensor = torch.FloatTensor(merged_Y_pca)\n",
    "\n",
    "modelPCA.eval()  #Ensure the model is in evaluation mode\n",
    "with torch.no_grad():\n",
    "    predictions = modelPCA(merged_Y_pca_tensor)\n",
    "    \n",
    "    predicted_winner = torch.argmax(predictions, dim=1)"
   ]
  },
  {
   "cell_type": "code",
   "execution_count": 35,
   "id": "0b58b1ff",
   "metadata": {},
   "outputs": [],
   "source": [
    "y1['Prediction'] = np.where(predicted_winner == 1, y1.Team_A, y1.Team_B)\n",
    "#Who does jawn think is winning round of 64!"
   ]
  },
  {
   "cell_type": "code",
   "execution_count": 36,
   "id": "c4641e4a",
   "metadata": {},
   "outputs": [
    {
     "data": {
      "text/html": [
       "<div>\n",
       "<style scoped>\n",
       "    .dataframe tbody tr th:only-of-type {\n",
       "        vertical-align: middle;\n",
       "    }\n",
       "\n",
       "    .dataframe tbody tr th {\n",
       "        vertical-align: top;\n",
       "    }\n",
       "\n",
       "    .dataframe thead th {\n",
       "        text-align: right;\n",
       "    }\n",
       "</style>\n",
       "<table border=\"1\" class=\"dataframe\">\n",
       "  <thead>\n",
       "    <tr style=\"text-align: right;\">\n",
       "      <th></th>\n",
       "      <th>Team_A</th>\n",
       "      <th>Team_B</th>\n",
       "      <th>Round</th>\n",
       "      <th>Year</th>\n",
       "      <th>Prediction</th>\n",
       "    </tr>\n",
       "  </thead>\n",
       "  <tbody>\n",
       "    <tr>\n",
       "      <th>0</th>\n",
       "      <td>FAU</td>\n",
       "      <td>Northwestern</td>\n",
       "      <td>64</td>\n",
       "      <td>2024</td>\n",
       "      <td>FAU</td>\n",
       "    </tr>\n",
       "    <tr>\n",
       "      <th>1</th>\n",
       "      <td>San Diego St.</td>\n",
       "      <td>UAB</td>\n",
       "      <td>64</td>\n",
       "      <td>2024</td>\n",
       "      <td>San Diego St.</td>\n",
       "    </tr>\n",
       "    <tr>\n",
       "      <th>2</th>\n",
       "      <td>Washington St.</td>\n",
       "      <td>Drake</td>\n",
       "      <td>64</td>\n",
       "      <td>2024</td>\n",
       "      <td>Drake</td>\n",
       "    </tr>\n",
       "    <tr>\n",
       "      <th>3</th>\n",
       "      <td>Mississippi St.</td>\n",
       "      <td>Michigan St.</td>\n",
       "      <td>64</td>\n",
       "      <td>2024</td>\n",
       "      <td>Michigan St.</td>\n",
       "    </tr>\n",
       "    <tr>\n",
       "      <th>4</th>\n",
       "      <td>Saint Mary's</td>\n",
       "      <td>Grand Canyon</td>\n",
       "      <td>64</td>\n",
       "      <td>2024</td>\n",
       "      <td>Saint Mary's</td>\n",
       "    </tr>\n",
       "    <tr>\n",
       "      <th>5</th>\n",
       "      <td>Clemson</td>\n",
       "      <td>New Mexico</td>\n",
       "      <td>64</td>\n",
       "      <td>2024</td>\n",
       "      <td>Clemson</td>\n",
       "    </tr>\n",
       "    <tr>\n",
       "      <th>6</th>\n",
       "      <td>Dayton</td>\n",
       "      <td>Nevada</td>\n",
       "      <td>64</td>\n",
       "      <td>2024</td>\n",
       "      <td>Nevada</td>\n",
       "    </tr>\n",
       "    <tr>\n",
       "      <th>7</th>\n",
       "      <td>Nebraska</td>\n",
       "      <td>Texas AM</td>\n",
       "      <td>64</td>\n",
       "      <td>2024</td>\n",
       "      <td>Nebraska</td>\n",
       "    </tr>\n",
       "    <tr>\n",
       "      <th>8</th>\n",
       "      <td>Wisconsin</td>\n",
       "      <td>James Madison</td>\n",
       "      <td>64</td>\n",
       "      <td>2024</td>\n",
       "      <td>Wisconsin</td>\n",
       "    </tr>\n",
       "    <tr>\n",
       "      <th>9</th>\n",
       "      <td>Texas Tech</td>\n",
       "      <td>NC State</td>\n",
       "      <td>64</td>\n",
       "      <td>2024</td>\n",
       "      <td>Texas Tech</td>\n",
       "    </tr>\n",
       "    <tr>\n",
       "      <th>10</th>\n",
       "      <td>Florida</td>\n",
       "      <td>Colorado</td>\n",
       "      <td>64</td>\n",
       "      <td>2024</td>\n",
       "      <td>Colorado</td>\n",
       "    </tr>\n",
       "    <tr>\n",
       "      <th>11</th>\n",
       "      <td>Utah St.</td>\n",
       "      <td>TCU</td>\n",
       "      <td>64</td>\n",
       "      <td>2024</td>\n",
       "      <td>TCU</td>\n",
       "    </tr>\n",
       "    <tr>\n",
       "      <th>12</th>\n",
       "      <td>Gonzaga</td>\n",
       "      <td>McNeese</td>\n",
       "      <td>64</td>\n",
       "      <td>2024</td>\n",
       "      <td>Gonzaga</td>\n",
       "    </tr>\n",
       "    <tr>\n",
       "      <th>13</th>\n",
       "      <td>South Carolina</td>\n",
       "      <td>Oregon</td>\n",
       "      <td>64</td>\n",
       "      <td>2024</td>\n",
       "      <td>Oregon</td>\n",
       "    </tr>\n",
       "    <tr>\n",
       "      <th>14</th>\n",
       "      <td>Texas</td>\n",
       "      <td>Colorado St.</td>\n",
       "      <td>64</td>\n",
       "      <td>2024</td>\n",
       "      <td>Colorado St.</td>\n",
       "    </tr>\n",
       "  </tbody>\n",
       "</table>\n",
       "</div>"
      ],
      "text/plain": [
       "             Team_A         Team_B  Round  Year     Prediction\n",
       "0               FAU   Northwestern     64  2024            FAU\n",
       "1     San Diego St.            UAB     64  2024  San Diego St.\n",
       "2    Washington St.          Drake     64  2024          Drake\n",
       "3   Mississippi St.   Michigan St.     64  2024   Michigan St.\n",
       "4      Saint Mary's   Grand Canyon     64  2024   Saint Mary's\n",
       "5           Clemson     New Mexico     64  2024        Clemson\n",
       "6            Dayton         Nevada     64  2024         Nevada\n",
       "7          Nebraska       Texas AM     64  2024       Nebraska\n",
       "8         Wisconsin  James Madison     64  2024      Wisconsin\n",
       "9        Texas Tech       NC State     64  2024     Texas Tech\n",
       "10          Florida       Colorado     64  2024       Colorado\n",
       "11         Utah St.            TCU     64  2024            TCU\n",
       "12          Gonzaga        McNeese     64  2024        Gonzaga\n",
       "13   South Carolina         Oregon     64  2024         Oregon\n",
       "14            Texas   Colorado St.     64  2024   Colorado St."
      ]
     },
     "execution_count": 36,
     "metadata": {},
     "output_type": "execute_result"
    }
   ],
   "source": [
    "y1"
   ]
  },
  {
   "cell_type": "code",
   "execution_count": 37,
   "id": "9d9939c8",
   "metadata": {},
   "outputs": [],
   "source": [
    "#Onto round 2\n",
    "y2 = ystart.loc[ystart.Round == 32]\n",
    "y2 = y2.replace(\"Uconn\", \"UConn\")"
   ]
  },
  {
   "cell_type": "code",
   "execution_count": 38,
   "id": "238f7dfa",
   "metadata": {},
   "outputs": [
    {
     "name": "stderr",
     "output_type": "stream",
     "text": [
      "C:\\Users\\ranji\\anaconda3\\lib\\site-packages\\sklearn\\base.py:457: UserWarning: X has feature names, but StandardScaler was fitted without feature names\n",
      "  warnings.warn(\n"
     ]
    }
   ],
   "source": [
    "merged_Y2 = pd.merge(y2, y24, left_on=['Team_A', 'Year'], right_on=['team', 'Year'], how='left', suffixes=('', '_A'))\n",
    "merged_Y2 = pd.merge(merged_Y2, y24, left_on=['Team_B', 'Year'], right_on=['team', 'Year'], how='left', suffixes=('', '_B'))\n",
    "merged_Y2 = merged_Y2.drop(columns = ['team', 'team_B', 'tooltip_team', 'tooltip_team_B'])\n",
    "\n",
    "merged_Y2 = merged_Y2[['rank', 'obpr', 'dbpr', 'bpr', 'opponent_adjust', 'pace_adjust',\n",
    "       'off_rank', 'def_rank', 'tempo', 'tempo_rank', 'home_rank', 'wins',\n",
    "       'losses', 'rank_B', 'obpr_B', 'dbpr_B', 'bpr_B', 'opponent_adjust_B',\n",
    "       'pace_adjust_B', 'off_rank_B', 'def_rank_B', 'tempo_B', 'tempo_rank_B',\n",
    "       'home_rank_B', 'wins_B', 'losses_B']]\n",
    "merged_Y2 = merged_Y2.dropna()\n",
    "\n",
    "#Scale them to each other\n",
    "new_merged_Y2 = pd.DataFrame()\n",
    "for i in range(13):\n",
    "    col_name = merged_Y2.columns[i]\n",
    "    \n",
    "    new_merged_Y2[col_name + \"_diff\"] = merged_Y2[col_name] / merged_Y2[col_name + \"_B\"]\n",
    "    \n",
    "#PCA this jawn\n",
    "merged_Y2_scaled = scaler.transform(new_merged_Y2)\n",
    "\n",
    "merged_Y2_pca = pca.transform(merged_Y2_scaled)\n",
    "merged_Y2_pca_tensor = torch.FloatTensor(merged_Y2_pca)\n",
    "\n",
    "modelPCA.eval()  #Ensure the model is in evaluation mode\n",
    "with torch.no_grad():\n",
    "    predictions = modelPCA(merged_Y2_pca_tensor)\n",
    "    \n",
    "    predicted_winner = torch.argmax(predictions, dim=1)\n",
    "\n",
    "    \n",
    "y2['Prediction'] = np.where(predicted_winner == 1, y2.Team_A, y2.Team_B)\n",
    "#Who does jawn think is winning round of 64!"
   ]
  },
  {
   "cell_type": "code",
   "execution_count": 39,
   "id": "73448791",
   "metadata": {},
   "outputs": [
    {
     "data": {
      "text/html": [
       "<div>\n",
       "<style scoped>\n",
       "    .dataframe tbody tr th:only-of-type {\n",
       "        vertical-align: middle;\n",
       "    }\n",
       "\n",
       "    .dataframe tbody tr th {\n",
       "        vertical-align: top;\n",
       "    }\n",
       "\n",
       "    .dataframe thead th {\n",
       "        text-align: right;\n",
       "    }\n",
       "</style>\n",
       "<table border=\"1\" class=\"dataframe\">\n",
       "  <thead>\n",
       "    <tr style=\"text-align: right;\">\n",
       "      <th></th>\n",
       "      <th>Team_A</th>\n",
       "      <th>Team_B</th>\n",
       "      <th>Round</th>\n",
       "      <th>Year</th>\n",
       "      <th>Prediction</th>\n",
       "    </tr>\n",
       "  </thead>\n",
       "  <tbody>\n",
       "    <tr>\n",
       "      <th>15</th>\n",
       "      <td>UConn</td>\n",
       "      <td>FAU</td>\n",
       "      <td>32</td>\n",
       "      <td>2024</td>\n",
       "      <td>UConn</td>\n",
       "    </tr>\n",
       "    <tr>\n",
       "      <th>16</th>\n",
       "      <td>San Diego St.</td>\n",
       "      <td>Auburn</td>\n",
       "      <td>32</td>\n",
       "      <td>2024</td>\n",
       "      <td>San Diego St.</td>\n",
       "    </tr>\n",
       "    <tr>\n",
       "      <th>17</th>\n",
       "      <td>BYU</td>\n",
       "      <td>Illinois</td>\n",
       "      <td>32</td>\n",
       "      <td>2024</td>\n",
       "      <td>BYU</td>\n",
       "    </tr>\n",
       "    <tr>\n",
       "      <th>18</th>\n",
       "      <td>Drake</td>\n",
       "      <td>Iowa St.</td>\n",
       "      <td>32</td>\n",
       "      <td>2024</td>\n",
       "      <td>Drake</td>\n",
       "    </tr>\n",
       "    <tr>\n",
       "      <th>19</th>\n",
       "      <td>UNC</td>\n",
       "      <td>Michigan St.</td>\n",
       "      <td>32</td>\n",
       "      <td>2024</td>\n",
       "      <td>UNC</td>\n",
       "    </tr>\n",
       "    <tr>\n",
       "      <th>20</th>\n",
       "      <td>Saint Mary's</td>\n",
       "      <td>Alabama</td>\n",
       "      <td>32</td>\n",
       "      <td>2024</td>\n",
       "      <td>Saint Mary's</td>\n",
       "    </tr>\n",
       "    <tr>\n",
       "      <th>21</th>\n",
       "      <td>Clemson</td>\n",
       "      <td>Baylor</td>\n",
       "      <td>32</td>\n",
       "      <td>2024</td>\n",
       "      <td>Clemson</td>\n",
       "    </tr>\n",
       "    <tr>\n",
       "      <th>22</th>\n",
       "      <td>Dayton</td>\n",
       "      <td>Arizona</td>\n",
       "      <td>32</td>\n",
       "      <td>2024</td>\n",
       "      <td>Dayton</td>\n",
       "    </tr>\n",
       "    <tr>\n",
       "      <th>23</th>\n",
       "      <td>Houston</td>\n",
       "      <td>Nebraska</td>\n",
       "      <td>32</td>\n",
       "      <td>2024</td>\n",
       "      <td>Houston</td>\n",
       "    </tr>\n",
       "    <tr>\n",
       "      <th>24</th>\n",
       "      <td>Wisconsin</td>\n",
       "      <td>Duke</td>\n",
       "      <td>32</td>\n",
       "      <td>2024</td>\n",
       "      <td>Wisconsin</td>\n",
       "    </tr>\n",
       "    <tr>\n",
       "      <th>25</th>\n",
       "      <td>Texas Tech</td>\n",
       "      <td>Kentucky</td>\n",
       "      <td>32</td>\n",
       "      <td>2024</td>\n",
       "      <td>Texas Tech</td>\n",
       "    </tr>\n",
       "    <tr>\n",
       "      <th>26</th>\n",
       "      <td>Colorado</td>\n",
       "      <td>Marquette</td>\n",
       "      <td>32</td>\n",
       "      <td>2024</td>\n",
       "      <td>Marquette</td>\n",
       "    </tr>\n",
       "    <tr>\n",
       "      <th>27</th>\n",
       "      <td>Purdue</td>\n",
       "      <td>TCU</td>\n",
       "      <td>32</td>\n",
       "      <td>2024</td>\n",
       "      <td>Purdue</td>\n",
       "    </tr>\n",
       "    <tr>\n",
       "      <th>28</th>\n",
       "      <td>Gonzaga</td>\n",
       "      <td>Kansas</td>\n",
       "      <td>32</td>\n",
       "      <td>2024</td>\n",
       "      <td>Gonzaga</td>\n",
       "    </tr>\n",
       "    <tr>\n",
       "      <th>29</th>\n",
       "      <td>South Carolina</td>\n",
       "      <td>Creighton</td>\n",
       "      <td>32</td>\n",
       "      <td>2024</td>\n",
       "      <td>South Carolina</td>\n",
       "    </tr>\n",
       "    <tr>\n",
       "      <th>30</th>\n",
       "      <td>Colorado St.</td>\n",
       "      <td>Tennessee</td>\n",
       "      <td>32</td>\n",
       "      <td>2024</td>\n",
       "      <td>Colorado St.</td>\n",
       "    </tr>\n",
       "  </tbody>\n",
       "</table>\n",
       "</div>"
      ],
      "text/plain": [
       "            Team_A        Team_B  Round  Year      Prediction\n",
       "15           UConn           FAU     32  2024           UConn\n",
       "16   San Diego St.        Auburn     32  2024   San Diego St.\n",
       "17             BYU      Illinois     32  2024             BYU\n",
       "18           Drake      Iowa St.     32  2024           Drake\n",
       "19             UNC  Michigan St.     32  2024             UNC\n",
       "20    Saint Mary's       Alabama     32  2024    Saint Mary's\n",
       "21         Clemson        Baylor     32  2024         Clemson\n",
       "22          Dayton       Arizona     32  2024          Dayton\n",
       "23         Houston      Nebraska     32  2024         Houston\n",
       "24       Wisconsin          Duke     32  2024       Wisconsin\n",
       "25      Texas Tech      Kentucky     32  2024      Texas Tech\n",
       "26        Colorado     Marquette     32  2024       Marquette\n",
       "27          Purdue           TCU     32  2024          Purdue\n",
       "28         Gonzaga        Kansas     32  2024         Gonzaga\n",
       "29  South Carolina     Creighton     32  2024  South Carolina\n",
       "30    Colorado St.     Tennessee     32  2024    Colorado St."
      ]
     },
     "execution_count": 39,
     "metadata": {},
     "output_type": "execute_result"
    }
   ],
   "source": [
    "y2"
   ]
  },
  {
   "cell_type": "code",
   "execution_count": 40,
   "id": "c63a785b",
   "metadata": {},
   "outputs": [],
   "source": [
    "#Sweet Sixteen Baby!\n",
    "y3 = ystart.loc[ystart.Round == 16]"
   ]
  },
  {
   "cell_type": "code",
   "execution_count": 41,
   "id": "324b05e1",
   "metadata": {},
   "outputs": [
    {
     "name": "stderr",
     "output_type": "stream",
     "text": [
      "C:\\Users\\ranji\\anaconda3\\lib\\site-packages\\sklearn\\base.py:457: UserWarning: X has feature names, but StandardScaler was fitted without feature names\n",
      "  warnings.warn(\n",
      "C:\\Users\\ranji\\AppData\\Local\\Temp\\ipykernel_12180\\415765786.py:33: SettingWithCopyWarning: \n",
      "A value is trying to be set on a copy of a slice from a DataFrame.\n",
      "Try using .loc[row_indexer,col_indexer] = value instead\n",
      "\n",
      "See the caveats in the documentation: https://pandas.pydata.org/pandas-docs/stable/user_guide/indexing.html#returning-a-view-versus-a-copy\n",
      "  y3['Prediction'] = np.where(predicted_winner == 1, y3.Team_A, y3.Team_B)\n"
     ]
    }
   ],
   "source": [
    "merged_Y3 = pd.merge(y3, y24, left_on=['Team_A', 'Year'], right_on=['team', 'Year'], how='left', suffixes=('', '_A'))\n",
    "merged_Y3 = pd.merge(merged_Y3, y24, left_on=['Team_B', 'Year'], right_on=['team', 'Year'], how='left', suffixes=('', '_B'))\n",
    "merged_Y3 = merged_Y3.drop(columns = ['team', 'team_B', 'tooltip_team', 'tooltip_team_B'])\n",
    "\n",
    "merged_Y3 = merged_Y3[['rank', 'obpr', 'dbpr', 'bpr', 'opponent_adjust', 'pace_adjust',\n",
    "       'off_rank', 'def_rank', 'tempo', 'tempo_rank', 'home_rank', 'wins',\n",
    "       'losses', 'rank_B', 'obpr_B', 'dbpr_B', 'bpr_B', 'opponent_adjust_B',\n",
    "       'pace_adjust_B', 'off_rank_B', 'def_rank_B', 'tempo_B', 'tempo_rank_B',\n",
    "       'home_rank_B', 'wins_B', 'losses_B']]\n",
    "merged_Y3 = merged_Y3.dropna()\n",
    "\n",
    "#Scale them to each other\n",
    "new_merged_Y3 = pd.DataFrame()\n",
    "for i in range(13):\n",
    "    col_name = merged_Y3.columns[i]\n",
    "    \n",
    "    new_merged_Y3[col_name + \"_diff\"] = merged_Y3[col_name] / merged_Y3[col_name + \"_B\"]\n",
    "    \n",
    "#PCA this jawn\n",
    "merged_Y3_scaled = scaler.transform(new_merged_Y3)\n",
    "\n",
    "merged_Y3_pca = pca.transform(merged_Y3_scaled)\n",
    "merged_Y3_pca_tensor = torch.FloatTensor(merged_Y3_pca)\n",
    "\n",
    "modelPCA.eval()  #Ensure the model is in evaluation mode\n",
    "with torch.no_grad():\n",
    "    predictions = modelPCA(merged_Y3_pca_tensor)\n",
    "    \n",
    "    predicted_winner = torch.argmax(predictions, dim=1)\n",
    "\n",
    "    \n",
    "y3['Prediction'] = np.where(predicted_winner == 1, y3.Team_A, y3.Team_B)\n",
    "#Who does jawn think is winning round of 64!"
   ]
  },
  {
   "cell_type": "code",
   "execution_count": 42,
   "id": "4a83f00b",
   "metadata": {},
   "outputs": [
    {
     "data": {
      "text/html": [
       "<div>\n",
       "<style scoped>\n",
       "    .dataframe tbody tr th:only-of-type {\n",
       "        vertical-align: middle;\n",
       "    }\n",
       "\n",
       "    .dataframe tbody tr th {\n",
       "        vertical-align: top;\n",
       "    }\n",
       "\n",
       "    .dataframe thead th {\n",
       "        text-align: right;\n",
       "    }\n",
       "</style>\n",
       "<table border=\"1\" class=\"dataframe\">\n",
       "  <thead>\n",
       "    <tr style=\"text-align: right;\">\n",
       "      <th></th>\n",
       "      <th>Team_A</th>\n",
       "      <th>Team_B</th>\n",
       "      <th>Round</th>\n",
       "      <th>Year</th>\n",
       "      <th>Prediction</th>\n",
       "    </tr>\n",
       "  </thead>\n",
       "  <tbody>\n",
       "    <tr>\n",
       "      <th>31</th>\n",
       "      <td>UConn</td>\n",
       "      <td>San Diego St.</td>\n",
       "      <td>16</td>\n",
       "      <td>2024</td>\n",
       "      <td>UConn</td>\n",
       "    </tr>\n",
       "    <tr>\n",
       "      <th>32</th>\n",
       "      <td>Illinois</td>\n",
       "      <td>Iowa St.</td>\n",
       "      <td>16</td>\n",
       "      <td>2024</td>\n",
       "      <td>Illinois</td>\n",
       "    </tr>\n",
       "    <tr>\n",
       "      <th>33</th>\n",
       "      <td>UNC</td>\n",
       "      <td>Saint Mary's</td>\n",
       "      <td>16</td>\n",
       "      <td>2024</td>\n",
       "      <td>UNC</td>\n",
       "    </tr>\n",
       "    <tr>\n",
       "      <th>34</th>\n",
       "      <td>Clemson</td>\n",
       "      <td>Dayton</td>\n",
       "      <td>16</td>\n",
       "      <td>2024</td>\n",
       "      <td>Dayton</td>\n",
       "    </tr>\n",
       "    <tr>\n",
       "      <th>35</th>\n",
       "      <td>Houston</td>\n",
       "      <td>Wisconsin</td>\n",
       "      <td>16</td>\n",
       "      <td>2024</td>\n",
       "      <td>Houston</td>\n",
       "    </tr>\n",
       "    <tr>\n",
       "      <th>36</th>\n",
       "      <td>Texas Tech</td>\n",
       "      <td>Colorado</td>\n",
       "      <td>16</td>\n",
       "      <td>2024</td>\n",
       "      <td>Colorado</td>\n",
       "    </tr>\n",
       "    <tr>\n",
       "      <th>37</th>\n",
       "      <td>Purdue</td>\n",
       "      <td>Kansas</td>\n",
       "      <td>16</td>\n",
       "      <td>2024</td>\n",
       "      <td>Purdue</td>\n",
       "    </tr>\n",
       "    <tr>\n",
       "      <th>38</th>\n",
       "      <td>South Carolina</td>\n",
       "      <td>Colorado St.</td>\n",
       "      <td>16</td>\n",
       "      <td>2024</td>\n",
       "      <td>Colorado St.</td>\n",
       "    </tr>\n",
       "  </tbody>\n",
       "</table>\n",
       "</div>"
      ],
      "text/plain": [
       "            Team_A         Team_B  Round  Year    Prediction\n",
       "31           UConn  San Diego St.     16  2024         UConn\n",
       "32        Illinois       Iowa St.     16  2024      Illinois\n",
       "33             UNC   Saint Mary's     16  2024           UNC\n",
       "34         Clemson         Dayton     16  2024        Dayton\n",
       "35         Houston      Wisconsin     16  2024       Houston\n",
       "36      Texas Tech       Colorado     16  2024      Colorado\n",
       "37          Purdue         Kansas     16  2024        Purdue\n",
       "38  South Carolina   Colorado St.     16  2024  Colorado St."
      ]
     },
     "execution_count": 42,
     "metadata": {},
     "output_type": "execute_result"
    }
   ],
   "source": [
    "y3"
   ]
  },
  {
   "cell_type": "code",
   "execution_count": 43,
   "id": "17d2e23c",
   "metadata": {},
   "outputs": [],
   "source": [
    "#Elite eight, this is her final predictions and then we let man take over\n",
    "y4 = ystart.loc[ystart.Round == 8]"
   ]
  },
  {
   "cell_type": "code",
   "execution_count": 44,
   "id": "b8ce5468",
   "metadata": {},
   "outputs": [
    {
     "name": "stderr",
     "output_type": "stream",
     "text": [
      "C:\\Users\\ranji\\anaconda3\\lib\\site-packages\\sklearn\\base.py:457: UserWarning: X has feature names, but StandardScaler was fitted without feature names\n",
      "  warnings.warn(\n",
      "C:\\Users\\ranji\\AppData\\Local\\Temp\\ipykernel_12180\\2126013650.py:33: SettingWithCopyWarning: \n",
      "A value is trying to be set on a copy of a slice from a DataFrame.\n",
      "Try using .loc[row_indexer,col_indexer] = value instead\n",
      "\n",
      "See the caveats in the documentation: https://pandas.pydata.org/pandas-docs/stable/user_guide/indexing.html#returning-a-view-versus-a-copy\n",
      "  y4['Prediction'] = np.where(predicted_winner == 1, y4.Team_A, y4.Team_B)\n"
     ]
    }
   ],
   "source": [
    "merged_Y4 = pd.merge(y4, y24, left_on=['Team_A', 'Year'], right_on=['team', 'Year'], how='left', suffixes=('', '_A'))\n",
    "merged_Y4 = pd.merge(merged_Y4, y24, left_on=['Team_B', 'Year'], right_on=['team', 'Year'], how='left', suffixes=('', '_B'))\n",
    "merged_Y4 = merged_Y4.drop(columns = ['team', 'team_B', 'tooltip_team', 'tooltip_team_B'])\n",
    "\n",
    "merged_Y4 = merged_Y4[['rank', 'obpr', 'dbpr', 'bpr', 'opponent_adjust', 'pace_adjust',\n",
    "       'off_rank', 'def_rank', 'tempo', 'tempo_rank', 'home_rank', 'wins',\n",
    "       'losses', 'rank_B', 'obpr_B', 'dbpr_B', 'bpr_B', 'opponent_adjust_B',\n",
    "       'pace_adjust_B', 'off_rank_B', 'def_rank_B', 'tempo_B', 'tempo_rank_B',\n",
    "       'home_rank_B', 'wins_B', 'losses_B']]\n",
    "merged_Y4 = merged_Y4.dropna()\n",
    "\n",
    "#Scale them to each other\n",
    "new_merged_Y4 = pd.DataFrame()\n",
    "for i in range(13):\n",
    "    col_name = merged_Y4.columns[i]\n",
    "    \n",
    "    new_merged_Y4[col_name + \"_diff\"] = merged_Y4[col_name] / merged_Y4[col_name + \"_B\"]\n",
    "    \n",
    "#PCA this jawn\n",
    "merged_Y4_scaled = scaler.transform(new_merged_Y4)\n",
    "\n",
    "merged_Y4_pca = pca.transform(merged_Y4_scaled)\n",
    "merged_Y4_pca_tensor = torch.FloatTensor(merged_Y4_pca)\n",
    "\n",
    "modelPCA.eval()  #Ensure the model is in evaluation mode\n",
    "with torch.no_grad():\n",
    "    predictions = modelPCA(merged_Y4_pca_tensor)\n",
    "    \n",
    "    predicted_winner = torch.argmax(predictions, dim=1)\n",
    "\n",
    "    \n",
    "y4['Prediction'] = np.where(predicted_winner == 1, y4.Team_A, y4.Team_B)\n",
    "#Who does jawn think is winning round of 64!"
   ]
  },
  {
   "cell_type": "code",
   "execution_count": 45,
   "id": "145b8325",
   "metadata": {},
   "outputs": [
    {
     "data": {
      "text/html": [
       "<div>\n",
       "<style scoped>\n",
       "    .dataframe tbody tr th:only-of-type {\n",
       "        vertical-align: middle;\n",
       "    }\n",
       "\n",
       "    .dataframe tbody tr th {\n",
       "        vertical-align: top;\n",
       "    }\n",
       "\n",
       "    .dataframe thead th {\n",
       "        text-align: right;\n",
       "    }\n",
       "</style>\n",
       "<table border=\"1\" class=\"dataframe\">\n",
       "  <thead>\n",
       "    <tr style=\"text-align: right;\">\n",
       "      <th></th>\n",
       "      <th>Team_A</th>\n",
       "      <th>Team_B</th>\n",
       "      <th>Round</th>\n",
       "      <th>Year</th>\n",
       "      <th>Prediction</th>\n",
       "    </tr>\n",
       "  </thead>\n",
       "  <tbody>\n",
       "    <tr>\n",
       "      <th>39</th>\n",
       "      <td>UConn</td>\n",
       "      <td>Illinois</td>\n",
       "      <td>8</td>\n",
       "      <td>2024</td>\n",
       "      <td>UConn</td>\n",
       "    </tr>\n",
       "    <tr>\n",
       "      <th>40</th>\n",
       "      <td>UNC</td>\n",
       "      <td>Dayton</td>\n",
       "      <td>8</td>\n",
       "      <td>2024</td>\n",
       "      <td>Dayton</td>\n",
       "    </tr>\n",
       "    <tr>\n",
       "      <th>41</th>\n",
       "      <td>Houston</td>\n",
       "      <td>Texas Tech</td>\n",
       "      <td>8</td>\n",
       "      <td>2024</td>\n",
       "      <td>Houston</td>\n",
       "    </tr>\n",
       "    <tr>\n",
       "      <th>42</th>\n",
       "      <td>Purdue</td>\n",
       "      <td>Colorado St.</td>\n",
       "      <td>8</td>\n",
       "      <td>2024</td>\n",
       "      <td>Purdue</td>\n",
       "    </tr>\n",
       "  </tbody>\n",
       "</table>\n",
       "</div>"
      ],
      "text/plain": [
       "     Team_A        Team_B  Round  Year Prediction\n",
       "39    UConn      Illinois      8  2024      UConn\n",
       "40      UNC        Dayton      8  2024     Dayton\n",
       "41  Houston    Texas Tech      8  2024    Houston\n",
       "42   Purdue  Colorado St.      8  2024     Purdue"
      ]
     },
     "execution_count": 45,
     "metadata": {},
     "output_type": "execute_result"
    }
   ],
   "source": [
    "y4"
   ]
  }
 ],
 "metadata": {
  "kernelspec": {
   "display_name": "Python 3 (ipykernel)",
   "language": "python",
   "name": "python3"
  },
  "language_info": {
   "codemirror_mode": {
    "name": "ipython",
    "version": 3
   },
   "file_extension": ".py",
   "mimetype": "text/x-python",
   "name": "python",
   "nbconvert_exporter": "python",
   "pygments_lexer": "ipython3",
   "version": "3.9.18"
  }
 },
 "nbformat": 4,
 "nbformat_minor": 5
}
